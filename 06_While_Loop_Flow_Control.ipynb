{
  "nbformat": 4,
  "nbformat_minor": 0,
  "metadata": {
    "colab": {
      "name": "06_While_Loop-Flow_Control.ipynb",
      "provenance": [],
      "include_colab_link": true
    },
    "kernelspec": {
      "name": "python3",
      "display_name": "Python 3"
    },
    "language_info": {
      "name": "python"
    }
  },
  "cells": [
    {
      "cell_type": "markdown",
      "metadata": {
        "id": "view-in-github",
        "colab_type": "text"
      },
      "source": [
        "<a href=\"https://colab.research.google.com/github/manusri-kim/fmml2021/blob/main/06_While_Loop_Flow_Control.ipynb\" target=\"_parent\"><img src=\"https://colab.research.google.com/assets/colab-badge.svg\" alt=\"Open In Colab\"/></a>"
      ]
    },
    {
      "cell_type": "markdown",
      "metadata": {
        "id": "1_JLSdRkqi_5"
      },
      "source": [
        "#### WHILE-LOOP: The while loop executes as long as the condition remains true."
      ]
    },
    {
      "cell_type": "code",
      "metadata": {
        "id": "BWYbJYa5rlk5"
      },
      "source": [
        "#        while condition:\n",
        "#           statement-block"
      ],
      "execution_count": 1,
      "outputs": []
    },
    {
      "cell_type": "code",
      "metadata": {
        "id": "LP4gqudewbsi"
      },
      "source": [
        "i = 0"
      ],
      "execution_count": 2,
      "outputs": []
    },
    {
      "cell_type": "code",
      "metadata": {
        "id": "BPjFgz1-wgvK",
        "outputId": "1a269e0e-36e7-45bf-ba96-f52f9f97735b",
        "colab": {
          "base_uri": "https://localhost:8080/"
        }
      },
      "source": [
        "while (i < 10):\n",
        "   print (i, end=\" \")\n",
        "   i = i + 1"
      ],
      "execution_count": 3,
      "outputs": [
        {
          "output_type": "stream",
          "name": "stdout",
          "text": [
            "0 1 2 3 4 5 6 7 8 9 "
          ]
        }
      ]
    },
    {
      "cell_type": "code",
      "metadata": {
        "id": "3dnyj0WHwzaZ"
      },
      "source": [
        "# 1 1 2 3 5 8 13 "
      ],
      "execution_count": 4,
      "outputs": []
    },
    {
      "cell_type": "code",
      "metadata": {
        "id": "2entoj_sw-YV"
      },
      "source": [
        "a = b = 1"
      ],
      "execution_count": 5,
      "outputs": []
    },
    {
      "cell_type": "code",
      "metadata": {
        "id": "8ADO1xTtxAdK",
        "outputId": "ac142f7b-d6d8-49a9-9b66-1d2cf44d67a1",
        "colab": {
          "base_uri": "https://localhost:8080/"
        }
      },
      "source": [
        "while (b < 10000):\n",
        "    print (a, b, end=\" \")\n",
        "    a = a + b\n",
        "    b = a + b"
      ],
      "execution_count": 6,
      "outputs": [
        {
          "output_type": "stream",
          "name": "stdout",
          "text": [
            "1 1 2 3 5 8 13 21 34 55 89 144 233 377 610 987 1597 2584 4181 6765 "
          ]
        }
      ]
    },
    {
      "cell_type": "code",
      "metadata": {
        "id": "GpU2tRwW4yLM"
      },
      "source": [
        "my_str = '***********'"
      ],
      "execution_count": 7,
      "outputs": []
    },
    {
      "cell_type": "code",
      "metadata": {
        "id": "ogXM0QWM44jO"
      },
      "source": [
        "str_len = len(my_str)"
      ],
      "execution_count": 8,
      "outputs": []
    },
    {
      "cell_type": "code",
      "metadata": {
        "id": "rjpLoZPy5GF3",
        "outputId": "ba246bab-10b5-4517-d90d-6ac8519c4220",
        "colab": {
          "base_uri": "https://localhost:8080/"
        }
      },
      "source": [
        "while (str_len > 0):\n",
        "   print (my_str[:str_len])\n",
        "   str_len = str_len - 1"
      ],
      "execution_count": 9,
      "outputs": [
        {
          "output_type": "stream",
          "name": "stdout",
          "text": [
            "***********\n",
            "**********\n",
            "*********\n",
            "********\n",
            "*******\n",
            "******\n",
            "*****\n",
            "****\n",
            "***\n",
            "**\n",
            "*\n"
          ]
        }
      ]
    },
    {
      "cell_type": "code",
      "metadata": {
        "id": "prvBHO7u7p-R",
        "outputId": "b5fbfc47-b309-4d51-8ebf-8be08910dad0",
        "colab": {
          "base_uri": "https://localhost:8080/"
        }
      },
      "source": [
        "text = input()\n",
        "for index in range(len(text)): \n",
        "    print(*text[:index + 1])"
      ],
      "execution_count": 15,
      "outputs": [
        {
          "output_type": "stream",
          "name": "stdout",
          "text": [
            "lololol\n",
            "l\n",
            "l o\n",
            "l o l\n",
            "l o l o\n",
            "l o l o l\n",
            "l o l o l o\n",
            "l o l o l o l\n"
          ]
        }
      ]
    }
  ]
}