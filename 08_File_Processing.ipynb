{
  "nbformat": 4,
  "nbformat_minor": 0,
  "metadata": {
    "colab": {
      "name": "08 File Processing.ipynb",
      "provenance": [],
      "include_colab_link": true
    },
    "kernelspec": {
      "name": "python3",
      "display_name": "Python 3"
    },
    "language_info": {
      "name": "python"
    }
  },
  "cells": [
    {
      "cell_type": "markdown",
      "metadata": {
        "id": "view-in-github",
        "colab_type": "text"
      },
      "source": [
        "<a href=\"https://colab.research.google.com/github/manusri-kim/fmml2021/blob/main/08_File_Processing.ipynb\" target=\"_parent\"><img src=\"https://colab.research.google.com/assets/colab-badge.svg\" alt=\"Open In Colab\"/></a>"
      ]
    },
    {
      "cell_type": "code",
      "metadata": {
        "id": "on0OBs9S-eiS",
        "outputId": "c536ab07-2bd4-4c30-9e08-e42e2cee657e",
        "colab": {
          "base_uri": "https://localhost:8080/"
        }
      },
      "source": [
        "!wget https://raw.githubusercontent.com/aosp-mirror/platform_external_protobuf/master/CONTRIBUTORS.txt"
      ],
      "execution_count": 40,
      "outputs": [
        {
          "output_type": "stream",
          "name": "stdout",
          "text": [
            "--2021-09-14 15:20:03--  https://raw.githubusercontent.com/aosp-mirror/platform_external_protobuf/master/CONTRIBUTORS.txt\n",
            "Resolving raw.githubusercontent.com (raw.githubusercontent.com)... 185.199.108.133, 185.199.110.133, 185.199.111.133, ...\n",
            "Connecting to raw.githubusercontent.com (raw.githubusercontent.com)|185.199.108.133|:443... connected.\n",
            "HTTP request sent, awaiting response... 200 OK\n",
            "Length: 3924 (3.8K) [text/plain]\n",
            "Saving to: ‘CONTRIBUTORS.txt.2’\n",
            "\n",
            "CONTRIBUTORS.txt.2  100%[===================>]   3.83K  --.-KB/s    in 0s      \n",
            "\n",
            "2021-09-14 15:20:03 (53.7 MB/s) - ‘CONTRIBUTORS.txt.2’ saved [3924/3924]\n",
            "\n"
          ]
        }
      ]
    },
    {
      "cell_type": "code",
      "metadata": {
        "id": "Rg5LcpidAP7I"
      },
      "source": [
        "infile_pointer = open(\"CONTRIBUTORS.txt\", \"r\")\n",
        "outfile_pointer = open(\"emails-id.txt\", \"w\")"
      ],
      "execution_count": 41,
      "outputs": []
    },
    {
      "cell_type": "code",
      "metadata": {
        "id": "4yocH5ViAb-g",
        "outputId": "ac76abc8-1c61-4f8a-fcdb-451cfaaa6c9a",
        "colab": {
          "base_uri": "https://localhost:8080/"
        }
      },
      "source": [
        "for each_line in infile_pointer:\n",
        "  if (each_line.count('@') > 0) and (each_line.count('<') > 0):\n",
        "      print (each_line)\n",
        "      outfile_pointer.write(each_line)\n",
        "infile_pointer.close()\n",
        "outfile_pointer.close()"
      ],
      "execution_count": 42,
      "outputs": [
        {
          "output_type": "stream",
          "name": "stdout",
          "text": [
            "  Sanjay Ghemawat <sanjay@google.com>\n",
            "\n",
            "  Jeff Dean <jeff@google.com>\n",
            "\n",
            "  Daniel Dulitz <daniel@google.com>\n",
            "\n",
            "  Paul Haahr <haahr@google.com>\n",
            "\n",
            "  Corey Anderson <corin@google.com>\n",
            "\n",
            "  Kenton Varda <kenton@google.com>\n",
            "\n",
            "  Will Robinson <robinson@google.com>\n",
            "\n",
            "  Petar Petrov <petar@google.com>\n",
            "\n",
            "  Brian Duff <bduff@google.com>\n",
            "\n",
            "  Tom Chao <chaot@google.com>\n",
            "\n",
            "  Max Cai <maxtroy@google.com>\n",
            "\n",
            "  Ulas Kirazci <ulas@google.com>\n",
            "\n",
            "  Jason Hsueh <jasonh@google.com>\n",
            "\n",
            "  Joseph Schorr <jschorr@google.com>\n",
            "\n",
            "  Wenbo Zhu <wenboz@google.com>\n",
            "\n",
            "  Scott Bruce <sbruce@google.com>\n",
            "\n",
            "  Neal Norwitz <nnorwitz@google.com>\n",
            "\n",
            "  Jeffrey Yasskin <jyasskin@google.com>\n",
            "\n",
            "  Ambrose Feinstein <ambrose@google.com>\n",
            "\n",
            "  Lisa Carey <lcarey@google.com>\n",
            "\n",
            "  Gregory Kick <gak@google.com>\n",
            "\n",
            "  Kevin Ko <kevin.s.ko@gmail.com>\n",
            "\n",
            "  Johan Euphrosine <proppy@aminche.com>\n",
            "\n",
            "  Ulrich Kunitz <kune@deine-taler.de>\n",
            "\n",
            "  Leandro Lucarella <llucax@gmail.com>\n",
            "\n",
            "  Dilip Joseph <dilip.antony.joseph@gmail.com>\n",
            "\n",
            "  Brian Atkinson <nairb774@gmail.com>\n",
            "\n",
            "  Vincent Choinière <Choiniere.Vincent@hydro.qc.ca>\n",
            "\n",
            "  Monty Taylor <monty.taylor@gmail.com>\n",
            "\n",
            "  Alek Storm <alek.storm@gmail.com>\n",
            "\n",
            "  Oleg Smolsky <oleg.smolsky@gmail.com>\n",
            "\n",
            "  Brian Olson <brianolson@google.com>\n",
            "\n",
            "  Michael Poole <mdpoole@troilus.org>\n",
            "\n",
            "  Wink Saville <wink@google.com>\n",
            "\n",
            "  Will Pierce <willp@nuclei.com>\n",
            "\n",
            "  Alexandre Vassalotti <alexandre@peadrop.com>\n",
            "\n",
            "  Scott Stafford <scott.stafford@gmail.com>\n",
            "\n",
            "  Alexander Melnikov <alm@sibmail.ru>\n",
            "\n",
            "  Oliver Jowett <oliver.jowett@gmail.com>\n",
            "\n",
            "  Evan Jones <evanj@mit.edu>\n",
            "\n",
            "  Michael Kucharski <m.kucharski@gmail.com>\n",
            "\n",
            "  Kacper Kowalik <xarthisius.kk@gmail.com>\n",
            "\n",
            "  William Orr <will@worrbase.com>\n",
            "\n",
            "  Andrew Paprocki <andrew@ishiboo.com>\n",
            "\n"
          ]
        }
      ]
    },
    {
      "cell_type": "code",
      "metadata": {
        "id": "jcMUd4hNCQiU"
      },
      "source": [
        "# https://github.com/mysql/mysql-server/blob/8.0/Docs/sp-imp-spec.txt\n",
        "# Write a program to save all lines that start with '-' in a separate file\n",
        "# Ignore all leading blank characters."
      ],
      "execution_count": null,
      "outputs": []
    },
    {
      "cell_type": "code",
      "metadata": {
        "id": "L2d_fvPX5CIM",
        "outputId": "0f953508-1222-4cee-8cf8-8bba9b06c817",
        "colab": {
          "base_uri": "https://localhost:8080/"
        }
      },
      "source": [
        "!wget https://github.com/mysql/mysql-server/blob/8.0/Docs/sp-imp-spec.txt"
      ],
      "execution_count": 43,
      "outputs": [
        {
          "output_type": "stream",
          "name": "stdout",
          "text": [
            "--2021-09-14 15:20:47--  https://github.com/mysql/mysql-server/blob/8.0/Docs/sp-imp-spec.txt\n",
            "Resolving github.com (github.com)... 52.192.72.89\n",
            "Connecting to github.com (github.com)|52.192.72.89|:443... connected.\n",
            "HTTP request sent, awaiting response... 200 OK\n",
            "Length: unspecified [text/html]\n",
            "Saving to: ‘sp-imp-spec.txt’\n",
            "\n",
            "sp-imp-spec.txt         [ <=>                ] 371.40K  1.95MB/s    in 0.2s    \n",
            "\n",
            "2021-09-14 15:20:48 (1.95 MB/s) - ‘sp-imp-spec.txt’ saved [380309]\n",
            "\n"
          ]
        }
      ]
    },
    {
      "cell_type": "code",
      "metadata": {
        "id": "Rc95XCbr5aq_"
      },
      "source": [
        "infile_pointer = open(\"sp-imp-spec.txt\")"
      ],
      "execution_count": 44,
      "outputs": []
    },
    {
      "cell_type": "code",
      "metadata": {
        "id": "cLqvNkJT5knq"
      },
      "source": [
        "for each_line in infile_pointer:\n",
        "  if (each_line.startswith('  -')) or (each_line.startswith('-')) or (each_line.startswith('   - ')):\n",
        "      print (each_line)"
      ],
      "execution_count": 46,
      "outputs": []
    },
    {
      "cell_type": "markdown",
      "metadata": {
        "id": "CzILoddNaWPQ"
      },
      "source": [
        "Reference: [Official Python Documentation](https://docs.python.org/3/tutorial/inputoutput.html)\n",
        "\n",
        "String methods: [Link](https://www.w3schools.com/python/python_ref_string.asp)"
      ]
    }
  ]
}