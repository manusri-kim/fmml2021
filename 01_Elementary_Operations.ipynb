{
  "nbformat": 4,
  "nbformat_minor": 0,
  "metadata": {
    "colab": {
      "name": "01_Elementary_Operations.ipynb",
      "provenance": [],
      "include_colab_link": true
    },
    "kernelspec": {
      "name": "python3",
      "display_name": "Python 3"
    },
    "language_info": {
      "name": "python"
    }
  },
  "cells": [
    {
      "cell_type": "markdown",
      "metadata": {
        "id": "view-in-github",
        "colab_type": "text"
      },
      "source": [
        "<a href=\"https://colab.research.google.com/github/manusri-kim/fmml2021/blob/main/01_Elementary_Operations.ipynb\" target=\"_parent\"><img src=\"https://colab.research.google.com/assets/colab-badge.svg\" alt=\"Open In Colab\"/></a>"
      ]
    },
    {
      "cell_type": "code",
      "metadata": {
        "id": "d_4Xzhe4p5Jh",
        "outputId": "d05d366d-d8fc-45a8-fd00-800c0dd56224",
        "colab": {
          "base_uri": "https://localhost:8080/"
        }
      },
      "source": [
        "!python --version"
      ],
      "execution_count": 1,
      "outputs": [
        {
          "output_type": "stream",
          "name": "stdout",
          "text": [
            "Python 3.7.11\n"
          ]
        }
      ]
    },
    {
      "cell_type": "markdown",
      "metadata": {
        "id": "LQ7shzxUfj6N"
      },
      "source": [
        "### Elementary operations"
      ]
    },
    {
      "cell_type": "markdown",
      "metadata": {
        "id": "PI0fJw10fswU"
      },
      "source": [
        "#### Basic Calculator Operations\n",
        "\" addition + ,  subtraction  -  , multiplication  *  , division /  ,  exponent ** , modulus  %  , floor division  // \""
      ]
    },
    {
      "cell_type": "code",
      "metadata": {
        "id": "dm1hT_B9jXGu"
      },
      "source": [
        "3 + 2         # addition"
      ],
      "execution_count": null,
      "outputs": []
    },
    {
      "cell_type": "code",
      "metadata": {
        "id": "sUhkQPuhXbYj",
        "outputId": "acfaf56a-99d3-4a41-ede4-012d652efef6",
        "colab": {
          "base_uri": "https://localhost:8080/"
        }
      },
      "source": [
        "3 - 2         # subtraction"
      ],
      "execution_count": 3,
      "outputs": [
        {
          "output_type": "execute_result",
          "data": {
            "text/plain": [
              "1"
            ]
          },
          "metadata": {},
          "execution_count": 3
        }
      ]
    },
    {
      "cell_type": "code",
      "metadata": {
        "id": "B1gLBI1LXo1m",
        "outputId": "43aa41c9-214c-4761-c787-9e3d4423d17d",
        "colab": {
          "base_uri": "https://localhost:8080/"
        }
      },
      "source": [
        "5 * 3         # multiplication"
      ],
      "execution_count": 4,
      "outputs": [
        {
          "output_type": "execute_result",
          "data": {
            "text/plain": [
              "15"
            ]
          },
          "metadata": {},
          "execution_count": 4
        }
      ]
    },
    {
      "cell_type": "code",
      "metadata": {
        "id": "TwvpedNVXzRc",
        "outputId": "20dd223d-8d67-4e83-dc0b-1b2dc8eab465",
        "colab": {
          "base_uri": "https://localhost:8080/"
        }
      },
      "source": [
        "7 / 2         # division (always returns a float)"
      ],
      "execution_count": 5,
      "outputs": [
        {
          "output_type": "execute_result",
          "data": {
            "text/plain": [
              "3.5"
            ]
          },
          "metadata": {},
          "execution_count": 5
        }
      ]
    },
    {
      "cell_type": "code",
      "metadata": {
        "id": "2LQZZcRPX5Bt",
        "outputId": "e8d56d9a-7435-49f7-88b7-0bfcf14c7f9c",
        "colab": {
          "base_uri": "https://localhost:8080/"
        }
      },
      "source": [
        "type (7 / 2)"
      ],
      "execution_count": 6,
      "outputs": [
        {
          "output_type": "execute_result",
          "data": {
            "text/plain": [
              "float"
            ]
          },
          "metadata": {},
          "execution_count": 6
        }
      ]
    },
    {
      "cell_type": "code",
      "metadata": {
        "id": "qjJkqqXcX95p",
        "outputId": "aba2834f-4535-46a3-aec9-d932a9844e78",
        "colab": {
          "base_uri": "https://localhost:8080/"
        }
      },
      "source": [
        "7 // 2        # floor division (returns an integer - discards decimal part)"
      ],
      "execution_count": 7,
      "outputs": [
        {
          "output_type": "execute_result",
          "data": {
            "text/plain": [
              "3"
            ]
          },
          "metadata": {},
          "execution_count": 7
        }
      ]
    },
    {
      "cell_type": "code",
      "metadata": {
        "id": "2L_ku8CLYKDC",
        "outputId": "29442a63-7099-491e-e494-019ed16f7cf6",
        "colab": {
          "base_uri": "https://localhost:8080/"
        }
      },
      "source": [
        "type ( 7 // 2)"
      ],
      "execution_count": 8,
      "outputs": [
        {
          "output_type": "execute_result",
          "data": {
            "text/plain": [
              "int"
            ]
          },
          "metadata": {},
          "execution_count": 8
        }
      ]
    },
    {
      "cell_type": "code",
      "metadata": {
        "id": "dH2NmrgNYM97",
        "outputId": "b8530b57-6ddb-4a26-d63c-1053d5d02fc3",
        "colab": {
          "base_uri": "https://localhost:8080/"
        }
      },
      "source": [
        "7 % 2         # modulus operator - remainder is fetched after division"
      ],
      "execution_count": 9,
      "outputs": [
        {
          "output_type": "execute_result",
          "data": {
            "text/plain": [
              "1"
            ]
          },
          "metadata": {},
          "execution_count": 9
        }
      ]
    },
    {
      "cell_type": "code",
      "metadata": {
        "id": "wNTJter-YZ7W",
        "outputId": "070becdf-4d10-4553-b70f-eacdc2ac021a",
        "colab": {
          "base_uri": "https://localhost:8080/"
        }
      },
      "source": [
        "7 ** 2        # exponentiation "
      ],
      "execution_count": 10,
      "outputs": [
        {
          "output_type": "execute_result",
          "data": {
            "text/plain": [
              "49"
            ]
          },
          "metadata": {},
          "execution_count": 10
        }
      ]
    },
    {
      "cell_type": "code",
      "metadata": {
        "id": "asikDVm7YvYT",
        "outputId": "ef83b0fc-37fb-4ea1-f2a0-93983d948348",
        "colab": {
          "base_uri": "https://localhost:8080/"
        }
      },
      "source": [
        "5 - 2 * 2     # operator precedence : (), **, -(unary),  * or /, + or -"
      ],
      "execution_count": 11,
      "outputs": [
        {
          "output_type": "execute_result",
          "data": {
            "text/plain": [
              "1"
            ]
          },
          "metadata": {},
          "execution_count": 11
        }
      ]
    },
    {
      "cell_type": "code",
      "metadata": {
        "id": "YOcK-5d5eA39"
      },
      "source": [
        "# on string variables\n",
        "first_name = 'charlie'\n",
        "second_name = \"chaplin\""
      ],
      "execution_count": 12,
      "outputs": []
    },
    {
      "cell_type": "code",
      "metadata": {
        "id": "oYu_ynPOeS2_",
        "outputId": "035473a9-3ca6-44cb-edeb-12a66d1d65f3",
        "colab": {
          "base_uri": "https://localhost:8080/",
          "height": 35
        }
      },
      "source": [
        "first_name + second_name"
      ],
      "execution_count": 13,
      "outputs": [
        {
          "output_type": "execute_result",
          "data": {
            "application/vnd.google.colaboratory.intrinsic+json": {
              "type": "string"
            },
            "text/plain": [
              "'charliechaplin'"
            ]
          },
          "metadata": {},
          "execution_count": 13
        }
      ]
    },
    {
      "cell_type": "code",
      "metadata": {
        "id": "oIY8q8wgehFC",
        "outputId": "6d440137-06f7-403c-d3b2-823248cda21e",
        "colab": {
          "base_uri": "https://localhost:8080/",
          "height": 35
        }
      },
      "source": [
        "first_name + ' ' + second_name"
      ],
      "execution_count": 14,
      "outputs": [
        {
          "output_type": "execute_result",
          "data": {
            "application/vnd.google.colaboratory.intrinsic+json": {
              "type": "string"
            },
            "text/plain": [
              "'charlie chaplin'"
            ]
          },
          "metadata": {},
          "execution_count": 14
        }
      ]
    },
    {
      "cell_type": "code",
      "metadata": {
        "id": "6Vuv8iMbevRJ",
        "outputId": "a58fb8c4-fdcb-4494-bb9f-d9b3e5a66136",
        "colab": {
          "base_uri": "https://localhost:8080/",
          "height": 35
        }
      },
      "source": [
        "first_name * 2"
      ],
      "execution_count": 15,
      "outputs": [
        {
          "output_type": "execute_result",
          "data": {
            "application/vnd.google.colaboratory.intrinsic+json": {
              "type": "string"
            },
            "text/plain": [
              "'charliecharlie'"
            ]
          },
          "metadata": {},
          "execution_count": 15
        }
      ]
    },
    {
      "cell_type": "code",
      "metadata": {
        "id": "QPblckrXe2ui",
        "outputId": "1d5268aa-e749-4a79-ec9a-50b0ec14f234",
        "colab": {
          "base_uri": "https://localhost:8080/",
          "height": 35
        }
      },
      "source": [
        "(first_name * 2) + ' ' + (second_name * 3)"
      ],
      "execution_count": 16,
      "outputs": [
        {
          "output_type": "execute_result",
          "data": {
            "application/vnd.google.colaboratory.intrinsic+json": {
              "type": "string"
            },
            "text/plain": [
              "'charliecharlie chaplinchaplinchaplin'"
            ]
          },
          "metadata": {},
          "execution_count": 16
        }
      ]
    },
    {
      "cell_type": "markdown",
      "metadata": {
        "id": "aLcLONZ1fLxt"
      },
      "source": [
        "### Some exercises..."
      ]
    },
    {
      "cell_type": "code",
      "metadata": {
        "id": "DRFAgL6DZYxm"
      },
      "source": [
        "# 1. A brick has dimensions 5 cm x 4 cm x 2 cm. Find volume.\n",
        "brick_length = 5\n",
        "brick_breadth = 4\n",
        "brick_height = 2"
      ],
      "execution_count": 17,
      "outputs": []
    },
    {
      "cell_type": "code",
      "metadata": {
        "id": "pKZ7uDHCZ3At",
        "outputId": "2e0f91be-8c2d-44d9-cb86-fb1e3195a3ff",
        "colab": {
          "base_uri": "https://localhost:8080/"
        }
      },
      "source": [
        "brick_volume = brick_length * brick_breadth * brick_height\n",
        "print (brick_volume)"
      ],
      "execution_count": 18,
      "outputs": [
        {
          "output_type": "stream",
          "name": "stdout",
          "text": [
            "40\n"
          ]
        }
      ]
    },
    {
      "cell_type": "code",
      "metadata": {
        "id": "S2zZsoBb2z45"
      },
      "source": [
        "# 2. What will the expression -3 ** 2 evaluate to ?\n"
      ],
      "execution_count": 19,
      "outputs": []
    },
    {
      "cell_type": "markdown",
      "metadata": {
        "id": "nPqa-OG28yg_"
      },
      "source": [
        "*Exercise (do it yourself) :* A litre of petrol costs Rs 102. Your two wheeler gives a mileage of 38 kms per litre of petrol. How much of a distance can you travel with fuel worth Rs 50."
      ]
    },
    {
      "cell_type": "code",
      "metadata": {
        "id": "fZ4Tpi0B27lf",
        "outputId": "83f19319-9ed2-4a5f-de06-e20c6f2475c7",
        "colab": {
          "base_uri": "https://localhost:8080/"
        }
      },
      "source": [
        "fuelcost = 102\n",
        "mileage = 38\n",
        "cash = 50\n",
        "\n",
        "distance = (mileage/fuelcost)*cash \n",
        "print(distance)\n",
        "print(round(distance))\n"
      ],
      "execution_count": 21,
      "outputs": [
        {
          "output_type": "stream",
          "name": "stdout",
          "text": [
            "18.627450980392158\n",
            "19\n"
          ]
        }
      ]
    },
    {
      "cell_type": "markdown",
      "metadata": {
        "id": "vUAWMNbjiSvf"
      },
      "source": [
        "#### References"
      ]
    },
    {
      "cell_type": "markdown",
      "metadata": {
        "id": "KmpvkMmKiVcZ"
      },
      "source": [
        "1. [Python Operators](https://www.w3schools.com/python/python_operators.asp) and [Python Exercises](https://www.w3schools.com/python/exercise.asp)\n",
        "2. [Official Python Documentation](https://docs.python.org/3/tutorial/introduction.html)\n"
      ]
    }
  ]
}